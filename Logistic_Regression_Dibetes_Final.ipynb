{
 "cells": [
  {
   "cell_type": "code",
   "execution_count": 250,
   "metadata": {},
   "outputs": [],
   "source": [
    "import pandas as pd\n",
    "import numpy as np\n",
    "import matplotlib.pyplot as plt\n",
    "from sklearn.preprocessing import StandardScaler\n",
    "import seaborn as sns"
   ]
  },
  {
   "cell_type": "code",
   "execution_count": 251,
   "metadata": {},
   "outputs": [],
   "source": [
    "#sigmoid function z(x) = 1 / (1 + e^(-x))\n",
    "def sigmoid(x):\n",
    "    return 1 / (1 + np.exp(-x))"
   ]
  },
  {
   "cell_type": "code",
   "execution_count": 252,
   "metadata": {},
   "outputs": [],
   "source": [
    "#computing cost on the basis of current theta\n",
    "def compute_cost(X, y, theta):\n",
    "    m = len(y)\n",
    "    h = sigmoid(X @ theta)\n",
    "    epsilon = 1e-5 #to prevent computation log(0) when h=0\n",
    "    cost = (1/m)*(((-y).T @ np.log(h + epsilon))-((1-y).T @ np.log(1-h + epsilon)))\n",
    "    return cost"
   ]
  },
  {
   "cell_type": "code",
   "execution_count": 253,
   "metadata": {},
   "outputs": [],
   "source": [
    "#implementing gradient descent\n",
    "def gradient_descent(X, y, params, learning_rate, iterations):\n",
    "    m = len(y)\n",
    "    cost_history = np.zeros((iterations,1))\n",
    "\n",
    "    for i in range(iterations):\n",
    "        params = params - (learning_rate/m) * (X.T @ (sigmoid(X @ params) - y)) #updating theta parameters\n",
    "        cost_history[i] = compute_cost(X, y, params) #computing cost\n",
    "\n",
    "    return (cost_history, params)"
   ]
  },
  {
   "cell_type": "code",
   "execution_count": 254,
   "metadata": {},
   "outputs": [],
   "source": [
    "#predicts y values corresponding to X and theta\n",
    "def predict(X, params):\n",
    "    return np.round(sigmoid(X @ params)) #rounds of the values greater than 0.5 to 1 and less than it to 0"
   ]
  },
  {
   "cell_type": "code",
   "execution_count": 255,
   "metadata": {},
   "outputs": [
    {
     "data": {
      "text/html": [
       "<div>\n",
       "<style scoped>\n",
       "    .dataframe tbody tr th:only-of-type {\n",
       "        vertical-align: middle;\n",
       "    }\n",
       "\n",
       "    .dataframe tbody tr th {\n",
       "        vertical-align: top;\n",
       "    }\n",
       "\n",
       "    .dataframe thead th {\n",
       "        text-align: right;\n",
       "    }\n",
       "</style>\n",
       "<table border=\"1\" class=\"dataframe\">\n",
       "  <thead>\n",
       "    <tr style=\"text-align: right;\">\n",
       "      <th></th>\n",
       "      <th>Pregnancies</th>\n",
       "      <th>Glucose</th>\n",
       "      <th>BloodPressure</th>\n",
       "      <th>SkinThickness</th>\n",
       "      <th>Insulin</th>\n",
       "      <th>BMI</th>\n",
       "      <th>DiabetesPedigreeFunction</th>\n",
       "      <th>Age</th>\n",
       "      <th>Outcome</th>\n",
       "    </tr>\n",
       "  </thead>\n",
       "  <tbody>\n",
       "    <tr>\n",
       "      <th>0</th>\n",
       "      <td>6</td>\n",
       "      <td>148</td>\n",
       "      <td>72</td>\n",
       "      <td>35</td>\n",
       "      <td>0</td>\n",
       "      <td>33.6</td>\n",
       "      <td>0.627</td>\n",
       "      <td>50</td>\n",
       "      <td>1</td>\n",
       "    </tr>\n",
       "    <tr>\n",
       "      <th>1</th>\n",
       "      <td>1</td>\n",
       "      <td>85</td>\n",
       "      <td>66</td>\n",
       "      <td>29</td>\n",
       "      <td>0</td>\n",
       "      <td>26.6</td>\n",
       "      <td>0.351</td>\n",
       "      <td>31</td>\n",
       "      <td>0</td>\n",
       "    </tr>\n",
       "    <tr>\n",
       "      <th>2</th>\n",
       "      <td>8</td>\n",
       "      <td>183</td>\n",
       "      <td>64</td>\n",
       "      <td>0</td>\n",
       "      <td>0</td>\n",
       "      <td>23.3</td>\n",
       "      <td>0.672</td>\n",
       "      <td>32</td>\n",
       "      <td>1</td>\n",
       "    </tr>\n",
       "    <tr>\n",
       "      <th>3</th>\n",
       "      <td>1</td>\n",
       "      <td>89</td>\n",
       "      <td>66</td>\n",
       "      <td>23</td>\n",
       "      <td>94</td>\n",
       "      <td>28.1</td>\n",
       "      <td>0.167</td>\n",
       "      <td>21</td>\n",
       "      <td>0</td>\n",
       "    </tr>\n",
       "    <tr>\n",
       "      <th>4</th>\n",
       "      <td>0</td>\n",
       "      <td>137</td>\n",
       "      <td>40</td>\n",
       "      <td>35</td>\n",
       "      <td>168</td>\n",
       "      <td>43.1</td>\n",
       "      <td>2.288</td>\n",
       "      <td>33</td>\n",
       "      <td>1</td>\n",
       "    </tr>\n",
       "  </tbody>\n",
       "</table>\n",
       "</div>"
      ],
      "text/plain": [
       "   Pregnancies  Glucose  BloodPressure  SkinThickness  Insulin   BMI  \\\n",
       "0            6      148             72             35        0  33.6   \n",
       "1            1       85             66             29        0  26.6   \n",
       "2            8      183             64              0        0  23.3   \n",
       "3            1       89             66             23       94  28.1   \n",
       "4            0      137             40             35      168  43.1   \n",
       "\n",
       "   DiabetesPedigreeFunction  Age  Outcome  \n",
       "0                     0.627   50        1  \n",
       "1                     0.351   31        0  \n",
       "2                     0.672   32        1  \n",
       "3                     0.167   21        0  \n",
       "4                     2.288   33        1  "
      ]
     },
     "execution_count": 255,
     "metadata": {},
     "output_type": "execute_result"
    }
   ],
   "source": [
    "#importing the dataset\n",
    "data = pd.read_excel(\"data/diabetes.xlsx\")\n",
    "#printing the first few rows in the dataset\n",
    "data.head()"
   ]
  },
  {
   "cell_type": "code",
   "execution_count": 256,
   "metadata": {},
   "outputs": [],
   "source": [
    "#Converting the NAN fields to number\n",
    "data[:] = np.nan_to_num(data)\n",
    "x = data[['Pregnancies','Glucose','BloodPressure','SkinThickness','Insulin','BMI','DiabetesPedigreeFunction','Age']]\n",
    "#Standardizing feature by performing scaling with respec to mean values\n",
    "x = StandardScaler().fit_transform(x)"
   ]
  },
  {
   "cell_type": "code",
   "execution_count": 257,
   "metadata": {},
   "outputs": [],
   "source": [
    "#Using PCA the extract principal components\n",
    "from sklearn.decomposition import PCA\n",
    "pca = PCA(n_components=2)\n",
    "principalComponents = pca.fit_transform(x)\n",
    "principalDf = pd.DataFrame(data = principalComponents,columns = ['principal component 1','principal component 2'])\n",
    "finalDf = pd.concat([principalDf, data[['Outcome']]], axis = 1)\n",
    "finalDf['Constant'] = np.ones(len(finalDf)).reshape(-1,1)\n",
    "X = finalDf[['Constant','principal component 1','principal component 2']]\n",
    "X  = X.values.reshape(-1,3)\n",
    "y = finalDf['Outcome']\n",
    "y = y.values.reshape(-1,1)"
   ]
  },
  {
   "cell_type": "code",
   "execution_count": 258,
   "metadata": {},
   "outputs": [],
   "source": [
    "#Plotting the dataset\n",
    "from sklearn.model_selection import train_test_split\n",
    "X_train,X_test,y_train,y_test = train_test_split(X,y,test_size=0.30)"
   ]
  },
  {
   "cell_type": "code",
   "execution_count": 259,
   "metadata": {},
   "outputs": [
    {
     "name": "stdout",
     "output_type": "stream",
     "text": [
      "Predicted:  -1.6648212542467788 1.4984569093975322\n"
     ]
    },
    {
     "data": {
      "image/png": "[encoded data removed]",
      "text/plain": [
       "<Figure size 432x288 with 1 Axes>"
      ]
     },
     "metadata": {},
     "output_type": "display_data"
    }
   ],
   "source": [
    "m = len(y_train)\n",
    "n = np.size(X_train,1)\n",
    "params = np.zeros((n,1))\n",
    "\n",
    "iterations = 2000\n",
    "learning_rate = 0.003\n",
    "\n",
    "#setting up initial cost\n",
    "initial_cost = compute_cost(X_train, y_train, params)\n",
    "#print(\"Initial Cost is: {} \\n\".format(initial_cost))\n",
    "#calling Gradient Descent on training set\n",
    "(cost_history, params_optimal) = gradient_descent(X_train, y_train, params, learning_rate, iterations)\n",
    "#predicting the y values from the equation of line obtained by gradient descent algorithm\n",
    "y_pred = predict(X_test, params_optimal)\n",
    "\n",
    "#calculating slope and intercept\n",
    "slope = -(params_optimal[1][0]/params_optimal[2][0])\n",
    "intercept = -(params_optimal[0][0]/params_optimal[2][0])\n",
    "\n",
    "print(\"Predicted: \",slope,intercept)\n",
    "\n",
    "#Plotting the cost curve\n",
    "plt.figure()\n",
    "plt.plot(range(len(cost_history)), cost_history, 'r')\n",
    "plt.title(\"Convergence Graph of Cost Function\")\n",
    "plt.xlabel(\"Number of Iterations\")\n",
    "plt.ylabel(\"Cost\")\n",
    "plt.show()"
   ]
  },
  {
   "cell_type": "code",
   "execution_count": 260,
   "metadata": {},
   "outputs": [
    {
     "name": "stdout",
     "output_type": "stream",
     "text": [
      "Actual:  -1.6168903686402907 0.9204008644401268\n"
     ]
    }
   ],
   "source": [
    "#importing Logistic Regression Model to find the best fit line on training set\n",
    "from sklearn.linear_model import LogisticRegression\n",
    "logistic = LogisticRegression()\n",
    "#logistic = LogisticRegression(fit_intercept=True,intercept_scaling=3,max_iter=1000)\n",
    "\n",
    "#Fitting the classifier on the training set\n",
    "logistic.fit(X_train,y_train.ravel())\n",
    "#Predicting y values on the basis of the above model obtained\n",
    "y_pred_LR = logistic.predict(X_test)\n",
    "y_pred_log = y_pred_LR\n",
    "y_pred_log.reshape(y_pred_log.shape[0],-1)\n",
    "\n",
    "#finding slope and intercept\n",
    "slope_ori = -(logistic.coef_[0][1]/logistic.coef_[0][2])\n",
    "intercept_ori = -(logistic.coef_[0][0]/logistic.coef_[0][2])\n",
    "\n",
    "print(\"Actual: \",slope_ori,intercept_ori)"
   ]
  },
  {
   "cell_type": "code",
   "execution_count": 261,
   "metadata": {},
   "outputs": [
    {
     "name": "stdout",
     "output_type": "stream",
     "text": [
      "Computed Score:\n",
      "Average Score:  0.7748917748917749\n",
      "Observed Positive:  66.0\n",
      "Actual Positive:  68.0\n",
      "Recall:  0.6029411764705882\n",
      "Precision:  0.6212121212121212\n",
      "f-Score:  0.6119402985074627\n"
     ]
    }
   ],
   "source": [
    "#computing the average score, precision, recall and f-score on the model built from scratch\n",
    "print(\"Computed Score:\")\n",
    "avg_score = float(sum(y_pred == y_test))/ float(len(y_test))\n",
    "print(\"Average Score: \",avg_score)\n",
    "true_positive = 0\n",
    "for i in range(len(y_pred)):\n",
    "    if y_pred[i][0] == 1 and y_test[i][0] == 1:\n",
    "        true_positive = true_positive + 1\n",
    "obs_positive = sum(sum(y_pred))\n",
    "actual_positive = sum(sum(y_test))\n",
    "\n",
    "print(\"Observed Positive: \",obs_positive)\n",
    "print(\"Actual Positive: \",actual_positive)\n",
    "recall = float(true_positive) / float(actual_positive)\n",
    "print(\"Recall: \",recall)\n",
    "precision = float(true_positive) / float(obs_positive)\n",
    "print(\"Precision: \",precision)\n",
    "f1 = (2.0 * precision * recall) / (precision + recall)\n",
    "print(\"f-Score: \",f1)"
   ]
  },
  {
   "cell_type": "code",
   "execution_count": 262,
   "metadata": {},
   "outputs": [
    {
     "name": "stdout",
     "output_type": "stream",
     "text": [
      "Computed by existing logistic regression model:\n",
      "Average Score:  0.7835497835497836\n",
      "Observed Positive:  54.0\n",
      "Actual Positive:  68.0\n",
      "Recall:  0.5294117647058824\n",
      "Precision:  0.6666666666666666\n",
      "f-Score:  0.5901639344262295\n"
     ]
    }
   ],
   "source": [
    "#computing the average score, precision, recall and f-score on the existing Logistic Regression model\n",
    "print(\"Computed by existing logistic regression model:\")\n",
    "s = 0\n",
    "for i in range(len(y_pred_log)):\n",
    "    if y_pred_log[i] == y_test[i][0]:\n",
    "        s = s + 1\n",
    "avg_score = float(s)/ float(len(y_test))\n",
    "print(\"Average Score: \",avg_score)\n",
    "true_positive = 0\n",
    "for i in range(len(y_pred_log)):\n",
    "    if y_pred_log[i] == 1 and y_test[i][0] == 1:\n",
    "        true_positive = true_positive + 1\n",
    "obs_positive = sum(y_pred_log)\n",
    "actual_positive = sum(sum(y_test))\n",
    "\n",
    "print(\"Observed Positive: \",obs_positive)\n",
    "print(\"Actual Positive: \",actual_positive)\n",
    "recall = float(true_positive) / float(actual_positive)\n",
    "print(\"Recall: \",recall)\n",
    "precision = float(true_positive) / float(obs_positive)\n",
    "print(\"Precision: \",precision)\n",
    "f1 = (2.0 * precision * recall) / (precision + recall)\n",
    "print(\"f-Score: \",f1)"
   ]
  },
  {
   "cell_type": "code",
   "execution_count": null,
   "metadata": {},
   "outputs": [],
   "source": []
  }
 ],
 "metadata": {
  "kernelspec": {
   "display_name": "Python 3",
   "language": "python",
   "name": "python3"
  },
  "language_info": {
   "codemirror_mode": {
    "name": "ipython",
    "version": 3
   },
   "file_extension": ".py",
   "mimetype": "text/x-python",
   "name": "python",
   "nbconvert_exporter": "python",
   "pygments_lexer": "ipython3",
   "version": "3.6.5"
  }
 },
 "nbformat": 4,
 "nbformat_minor": 2
}
